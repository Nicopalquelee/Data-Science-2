{
 "cells": [
  {
   "cell_type": "code",
   "execution_count": null,
   "id": "36d10abd",
   "metadata": {},
   "outputs": [
    {
     "name": "stdout",
     "output_type": "stream",
     "text": [
      "   id_cliente  edad  Monto compra promedio        ciudad Sexo  \\\n",
      "0           1  39.0               162525.0      Santiago    M   \n",
      "1           2  33.0               167322.0  Viña del Mar  NaN   \n",
      "2           3  41.0               115999.0    Concepción    F   \n",
      "3           4  50.0               161613.0    Valparaíso    F   \n",
      "4           5  32.0                    NaN      Santiago    M   \n",
      "\n",
      "   número de compras  visitas a la web Categoría favorita  Sesión promedio  \n",
      "0                  7                22  Electrodomésticos            13.70  \n",
      "1                  3                22            Calzado            40.16  \n",
      "2                  7                21               Ropa             2.36  \n",
      "3                  8                21           Mascotas            17.44  \n",
      "4                  2                21          Alimentos             7.35  \n",
      "   id_venta  id_cliente  Monto total  calificación experiencia        ciudad  \\\n",
      "0         1          54          NaN                         5  Viña del Mar   \n",
      "1         2         138     287340.0                         7      Santiago   \n",
      "2         3          42      80323.0                         4      Rancagua   \n",
      "3         4          64     161334.0                         2    Valparaíso   \n",
      "4         5         126     149953.0                         2      Rancagua   \n",
      "\n",
      "  categoría productos   tipo de entrega  \n",
      "0           Alimentos          despacho  \n",
      "1            Juguetes  retiro en tienda  \n",
      "2                 NaN          despacho  \n",
      "3   Electrodomésticos          despacho  \n",
      "4                 NaN          despacho  \n"
     ]
    }
   ],
   "source": [
    "import pandas as pd\n",
    "import numpy as np\n",
    "\n",
    "# Parámetros\n",
    "np.random.seed(42)\n",
    "num_clientes = 150\n",
    "num_ventas = 300\n",
    "\n",
    "# Distribuciones y categorías para clientes\n",
    "ciudades = ['Santiago', 'Concepción', 'Rancagua', 'Viña del Mar', 'Valparaíso']\n",
    "categorias_fav = ['Alimentos', 'Mascotas', 'Electrodomésticos', 'Ropa', 'Juguetes', 'Calzado']\n",
    "sexo = ['M', 'F']\n",
    "\n",
    "# Generar dataset clientes\n",
    "clientes = pd.DataFrame({\n",
    "    'id_cliente': range(1, num_clientes+1),\n",
    "    'edad': np.random.normal(35, 10, num_clientes).astype(int),\n",
    "    'Monto compra promedio': np.random.normal(150000, 50000, num_clientes).round(0),\n",
    "    'ciudad': np.random.choice(ciudades, num_clientes),\n",
    "    'Sexo': np.random.choice(sexo, num_clientes),\n",
    "    'número de compras': np.random.poisson(5, num_clientes),\n",
    "    'visitas a la web': np.random.poisson(20, num_clientes),\n",
    "    'Categoría favorita': np.random.choice(categorias_fav, num_clientes),\n",
    "    'Sesión promedio': np.random.exponential(10, num_clientes).round(2)  # en minutos\n",
    "})\n",
    "\n",
    "# Introducir valores nulos (5-10%) en columnas seleccionadas\n",
    "for col in ['edad', 'Monto compra promedio', 'ciudad', 'Sexo']:\n",
    "    clientes.loc[clientes.sample(frac=0.08).index, col] = np.nan\n",
    "\n",
    "# Mostrar un vistazo\n",
    "print(clientes.head())\n",
    "\n",
    "# Variables para ventas\n",
    "productos = categorias_fav.copy()  # para simplificar\n",
    "tipo_entrega = ['retiro en tienda', 'despacho']\n",
    "calif_exp = list(range(1, 8))  # 1 a 7\n",
    "\n",
    "# Generar dataset ventas\n",
    "ventas = pd.DataFrame({\n",
    "    'id_venta': range(1, num_ventas+1),\n",
    "    'id_cliente': np.random.choice(clientes['id_cliente'].dropna(), num_ventas),\n",
    "    'Monto total': np.random.normal(180000, 70000, num_ventas).round(0),\n",
    "    'calificación experiencia': np.random.choice(calif_exp, num_ventas),\n",
    "    'ciudad': np.random.choice(ciudades, num_ventas),\n",
    "    'categoría productos': np.random.choice(productos, num_ventas),\n",
    "    'tipo de entrega': np.random.choice(tipo_entrega, num_ventas)\n",
    "})\n",
    "\n",
    "# Introducir valores nulos (5-10%) en columnas seleccionadas\n",
    "for col in ['Monto total', 'categoría productos']:\n",
    "    ventas.loc[ventas.sample(frac=0.07).index, col] = np.nan\n",
    "\n",
    "print(ventas.head())\n",
    "\n",
    "# Guardar como CSV\n",
    "clientes.to_csv('clientes.csv', index=False)\n",
    "ventas.to_csv('ventas.csv', index=False)dd\n"
   ]
  },
  {
   "cell_type": "code",
   "execution_count": 6,
   "id": "c344ec66",
   "metadata": {},
   "outputs": [
    {
     "data": {
      "text/plain": [
       "array([[1, 39.0, 162525.0, ..., 22, 'Electrodomésticos', 13.7],\n",
       "       [2, 33.0, 167322.0, ..., 22, 'Calzado', 40.16],\n",
       "       [3, 41.0, 115999.0, ..., 21, 'Ropa', 2.36],\n",
       "       ...,\n",
       "       [148, 21.0, 165365.0, ..., 22, 'Electrodomésticos', 5.06],\n",
       "       [149, 40.0, 190643.0, ..., 9, 'Calzado', 0.98],\n",
       "       [150, 37.0, 181481.0, ..., 21, 'Juguetes', 5.82]], dtype=object)"
      ]
     },
     "execution_count": 6,
     "metadata": {},
     "output_type": "execute_result"
    }
   ],
   "source": [
    "df_clientes =  pd.read_csv(\"clientes.csv\")\n",
    "\n",
    "df_clientes.values"
   ]
  },
  {
   "cell_type": "code",
   "execution_count": null,
   "id": "c6d6ced4",
   "metadata": {},
   "outputs": [],
   "source": []
  }
 ],
 "metadata": {
  "kernelspec": {
   "display_name": "base",
   "language": "python",
   "name": "python3"
  },
  "language_info": {
   "codemirror_mode": {
    "name": "ipython",
    "version": 3
   },
   "file_extension": ".py",
   "mimetype": "text/x-python",
   "name": "python",
   "nbconvert_exporter": "python",
   "pygments_lexer": "ipython3",
   "version": "3.12.4"
  }
 },
 "nbformat": 4,
 "nbformat_minor": 5
}
